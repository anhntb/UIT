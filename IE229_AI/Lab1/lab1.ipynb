{
  "nbformat": 4,
  "nbformat_minor": 0,
  "metadata": {
    "colab": {
      "provenance": []
    },
    "kernelspec": {
      "name": "python3",
      "display_name": "Python 3"
    },
    "language_info": {
      "name": "python"
    }
  },
  "cells": [
    {
      "cell_type": "markdown",
      "source": [
        "# Q1"
      ],
      "metadata": {
        "id": "8be1hV6eqzzS"
      }
    },
    {
      "cell_type": "code",
      "execution_count": 2,
      "metadata": {
        "colab": {
          "base_uri": "https://localhost:8080/"
        },
        "id": "15DWvkKip5Pr",
        "outputId": "1250e939-3cd5-4159-bdac-92bfd3c4d54a"
      },
      "outputs": [
        {
          "output_type": "stream",
          "name": "stdout",
          "text": [
            "Q1 Answer: 50005000.0\n"
          ]
        }
      ],
      "source": [
        "n = 10000\n",
        "\n",
        "total = n * (n + 1) / 2\n",
        "\n",
        "print(\"Q1 Answer:\", total)"
      ]
    },
    {
      "cell_type": "markdown",
      "source": [
        "# Q2"
      ],
      "metadata": {
        "id": "JuEA8xwCrKbS"
      }
    },
    {
      "cell_type": "code",
      "source": [
        "# Cách 1: Dùng vòng lặp \"for\"\n",
        "\n",
        "total = 0\n",
        "for x in range(1, 101):\n",
        "    total += x**3 + 3*x**2 + 5*x + 9\n",
        "\n",
        "print(\"Q2 Answer:\", total)"
      ],
      "metadata": {
        "colab": {
          "base_uri": "https://localhost:8080/"
        },
        "id": "jiAwa41prMrw",
        "outputId": "ae485b12-0cf0-401c-fa37-4132d0e062fa"
      },
      "execution_count": 5,
      "outputs": [
        {
          "output_type": "stream",
          "name": "stdout",
          "text": [
            "Q2 Answer: 26543700\n"
          ]
        }
      ]
    },
    {
      "cell_type": "code",
      "source": [
        "# Cách 2: Tách biểu thức thành từng phần và áp dụng công thức tổng\n",
        "\n",
        "# Số lượng phần tử\n",
        "n = 100\n",
        "\n",
        "# Tính từng tổng riêng biệt theo công thức:\n",
        "sum_x = n * (n + 1) // 2\n",
        "sum_x2 = n * (n + 1) * (2 * n + 1) // 6\n",
        "sum_x3 = (n * (n + 1) // 2) ** 2\n",
        "sum_const = 9 * n\n",
        "\n",
        "# Tính tổng toàn bộ biểu thức: ∑(x^3 + 3x^2 + 5x + 9)\n",
        "total = sum_x3 + 3 * sum_x2 + 5 * sum_x + sum_const\n",
        "\n",
        "print(\"Q2 Answer:\", total)\n"
      ],
      "metadata": {
        "colab": {
          "base_uri": "https://localhost:8080/"
        },
        "id": "rLAd1yQWu8h1",
        "outputId": "f7e26cff-0f90-42c4-e5b3-56bdc6c22d9f"
      },
      "execution_count": 4,
      "outputs": [
        {
          "output_type": "stream",
          "name": "stdout",
          "text": [
            "Q2 Answer: 26543700\n"
          ]
        }
      ]
    },
    {
      "cell_type": "markdown",
      "source": [
        "# Q3"
      ],
      "metadata": {
        "id": "wQaxy0vav-pM"
      }
    },
    {
      "cell_type": "code",
      "source": [
        "def reverse(xlist):\n",
        "    reversed_list = []\n",
        "    for i in range(len(xlist)-1, -1, -1):\n",
        "        reversed_list.append(xlist[i])\n",
        "    return reversed_list\n",
        "\n",
        "# Test samples\n",
        "print(\"Q3 Example 1:\", reverse([10, 20, 30, 40, 50]))\n",
        "print(\"Q3 Example 2:\", reverse([\"cat\", \"dog\", \"lion\", \"tiger\"]))"
      ],
      "metadata": {
        "colab": {
          "base_uri": "https://localhost:8080/"
        },
        "id": "V9IN_K3Lv__6",
        "outputId": "d7cddc62-0c54-48e7-8ce2-f744a055cbff"
      },
      "execution_count": 6,
      "outputs": [
        {
          "output_type": "stream",
          "name": "stdout",
          "text": [
            "Q3 Example 1: [50, 40, 30, 20, 10]\n",
            "Q3 Example 2: ['tiger', 'lion', 'dog', 'cat']\n"
          ]
        }
      ]
    }
  ]
}